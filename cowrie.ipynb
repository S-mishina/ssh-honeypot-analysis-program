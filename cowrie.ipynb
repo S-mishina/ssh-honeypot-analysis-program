{
 "metadata": {
  "language_info": {
   "codemirror_mode": {
    "name": "ipython",
    "version": 3
   },
   "file_extension": ".py",
   "mimetype": "text/x-python",
   "name": "python",
   "nbconvert_exporter": "python",
   "pygments_lexer": "ipython3",
   "version": "3.8.5-final"
  },
  "orig_nbformat": 2,
  "kernelspec": {
   "name": "python3",
   "display_name": "Python 3",
   "language": "python"
  }
 },
 "nbformat": 4,
 "nbformat_minor": 2,
 "cells": [
  {
   "cell_type": "code",
   "execution_count": 1,
   "metadata": {},
   "outputs": [
    {
     "output_type": "execute_result",
     "data": {
      "text/plain": [
       "                            eventid  \\\n",
       "0                 cowrie.log.closed   \n",
       "1             cowrie.session.params   \n",
       "2              cowrie.command.input   \n",
       "3            cowrie.session.connect   \n",
       "4             cowrie.client.version   \n",
       "...                             ...   \n",
       "287849  cowrie.direct-tcpip.request   \n",
       "287850          cowrie.login.failed   \n",
       "287851  cowrie.direct-tcpip.request   \n",
       "287852     cowrie.direct-tcpip.data   \n",
       "287853        cowrie.session.closed   \n",
       "\n",
       "                                                   ttylog  size  \\\n",
       "0       var/lib/cowrie/tty/64426356ffcabc3671e5bd0acff...   2.0   \n",
       "1                                                     NaN   NaN   \n",
       "2                                                     NaN   NaN   \n",
       "3                                                     NaN   NaN   \n",
       "4                                                     NaN   NaN   \n",
       "...                                                   ...   ...   \n",
       "287849                                                NaN   NaN   \n",
       "287850                                                NaN   NaN   \n",
       "287851                                                NaN   NaN   \n",
       "287852                                                NaN   NaN   \n",
       "287853                                                NaN   NaN   \n",
       "\n",
       "                                                   shasum  duplicate  \\\n",
       "0       64426356ffcabc3671e5bd0acff75ec85278dc0d4ff5da...        1.0   \n",
       "1                                                     NaN        NaN   \n",
       "2                                                     NaN        NaN   \n",
       "3                                                     NaN        NaN   \n",
       "4                                                     NaN        NaN   \n",
       "...                                                   ...        ...   \n",
       "287849                                                NaN        NaN   \n",
       "287850                                                NaN        NaN   \n",
       "287851                                                NaN        NaN   \n",
       "287852                                                NaN        NaN   \n",
       "287853                                                NaN        NaN   \n",
       "\n",
       "        duration                                            message  \\\n",
       "0       0.520375  Closing TTY Log: var/lib/cowrie/tty/64426356ff...   \n",
       "1            NaN                                                 []   \n",
       "2            NaN                                           CMD: top   \n",
       "3            NaN  New connection: 5.188.86.178:61490 (133.125.60...   \n",
       "4            NaN                  Remote SSH version: b'SSH-2.0-Go'   \n",
       "...          ...                                                ...   \n",
       "287849       NaN  direct-tcp connection request to 212.159.9.200...   \n",
       "287850       NaN            login attempt [albert/albert123] failed   \n",
       "287851       NaN  direct-tcp connection request to imap.gmx.net:...   \n",
       "287852       NaN  discarded direct-tcp forward request 5 to imap...   \n",
       "287853  2.027883                    Connection lost after 2 seconds   \n",
       "\n",
       "               sensor                        timestamp        src_ip  ...  \\\n",
       "0       ik1-448-56163 2020-12-29 00:00:00.179807+00:00   51.91.8.222  ...   \n",
       "1       ik1-448-56163 2020-12-29 00:00:00.466643+00:00   51.91.8.222  ...   \n",
       "2       ik1-448-56163 2020-12-29 00:00:00.467146+00:00   51.91.8.222  ...   \n",
       "3       ik1-448-56163 2020-12-29 00:00:00.532028+00:00  5.188.86.178  ...   \n",
       "4       ik1-448-56163 2020-12-29 00:00:00.532569+00:00  5.188.86.178  ...   \n",
       "...               ...                              ...           ...  ...   \n",
       "287849  ik1-448-56163 2020-12-29 23:59:58.663555+00:00  5.188.86.206  ...   \n",
       "287850  ik1-448-56163 2020-12-29 23:59:58.719157+00:00  111.1.165.12  ...   \n",
       "287851  ik1-448-56163 2020-12-29 23:59:59.541958+00:00   5.182.39.64  ...   \n",
       "287852  ik1-448-56163 2020-12-29 23:59:59.796920+00:00   5.182.39.64  ...   \n",
       "287853  ik1-448-56163 2020-12-29 23:59:59.855093+00:00  111.1.165.12  ...   \n",
       "\n",
       "       langCS username   password  \\\n",
       "0         NaN      NaN        NaN   \n",
       "1         NaN      NaN        NaN   \n",
       "2         NaN      NaN        NaN   \n",
       "3         NaN      NaN        NaN   \n",
       "4         NaN      NaN        NaN   \n",
       "...       ...      ...        ...   \n",
       "287849    NaN      NaN        NaN   \n",
       "287850    NaN   albert  albert123   \n",
       "287851    NaN      NaN        NaN   \n",
       "287852    NaN      NaN        NaN   \n",
       "287853    NaN      NaN        NaN   \n",
       "\n",
       "                                                     data   id  outfile  \\\n",
       "0                                                     NaN  NaN      NaN   \n",
       "1                                                     NaN  NaN      NaN   \n",
       "2                                                     NaN  NaN      NaN   \n",
       "3                                                     NaN  NaN      NaN   \n",
       "4                                                     NaN  NaN      NaN   \n",
       "...                                                   ...  ...      ...   \n",
       "287849                                                NaN  NaN      NaN   \n",
       "287850                                                NaN  NaN      NaN   \n",
       "287851                                                NaN  NaN      NaN   \n",
       "287852  b\"\\x16\\x03\\x03\\x00\\xc7\\x01\\x00\\x00\\xc3\\x03\\x03...  5.0      NaN   \n",
       "287853                                                NaN  NaN      NaN   \n",
       "\n",
       "       destfile filename width height  \n",
       "0           NaN      NaN   NaN    NaN  \n",
       "1           NaN      NaN   NaN    NaN  \n",
       "2           NaN      NaN   NaN    NaN  \n",
       "3           NaN      NaN   NaN    NaN  \n",
       "4           NaN      NaN   NaN    NaN  \n",
       "...         ...      ...   ...    ...  \n",
       "287849      NaN      NaN   NaN    NaN  \n",
       "287850      NaN      NaN   NaN    NaN  \n",
       "287851      NaN      NaN   NaN    NaN  \n",
       "287852      NaN      NaN   NaN    NaN  \n",
       "287853      NaN      NaN   NaN    NaN  \n",
       "\n",
       "[287854 rows x 35 columns]"
      ],
      "text/html": "<div>\n<style scoped>\n    .dataframe tbody tr th:only-of-type {\n        vertical-align: middle;\n    }\n\n    .dataframe tbody tr th {\n        vertical-align: top;\n    }\n\n    .dataframe thead th {\n        text-align: right;\n    }\n</style>\n<table border=\"1\" class=\"dataframe\">\n  <thead>\n    <tr style=\"text-align: right;\">\n      <th></th>\n      <th>eventid</th>\n      <th>ttylog</th>\n      <th>size</th>\n      <th>shasum</th>\n      <th>duplicate</th>\n      <th>duration</th>\n      <th>message</th>\n      <th>sensor</th>\n      <th>timestamp</th>\n      <th>src_ip</th>\n      <th>...</th>\n      <th>langCS</th>\n      <th>username</th>\n      <th>password</th>\n      <th>data</th>\n      <th>id</th>\n      <th>outfile</th>\n      <th>destfile</th>\n      <th>filename</th>\n      <th>width</th>\n      <th>height</th>\n    </tr>\n  </thead>\n  <tbody>\n    <tr>\n      <th>0</th>\n      <td>cowrie.log.closed</td>\n      <td>var/lib/cowrie/tty/64426356ffcabc3671e5bd0acff...</td>\n      <td>2.0</td>\n      <td>64426356ffcabc3671e5bd0acff75ec85278dc0d4ff5da...</td>\n      <td>1.0</td>\n      <td>0.520375</td>\n      <td>Closing TTY Log: var/lib/cowrie/tty/64426356ff...</td>\n      <td>ik1-448-56163</td>\n      <td>2020-12-29 00:00:00.179807+00:00</td>\n      <td>51.91.8.222</td>\n      <td>...</td>\n      <td>NaN</td>\n      <td>NaN</td>\n      <td>NaN</td>\n      <td>NaN</td>\n      <td>NaN</td>\n      <td>NaN</td>\n      <td>NaN</td>\n      <td>NaN</td>\n      <td>NaN</td>\n      <td>NaN</td>\n    </tr>\n    <tr>\n      <th>1</th>\n      <td>cowrie.session.params</td>\n      <td>NaN</td>\n      <td>NaN</td>\n      <td>NaN</td>\n      <td>NaN</td>\n      <td>NaN</td>\n      <td>[]</td>\n      <td>ik1-448-56163</td>\n      <td>2020-12-29 00:00:00.466643+00:00</td>\n      <td>51.91.8.222</td>\n      <td>...</td>\n      <td>NaN</td>\n      <td>NaN</td>\n      <td>NaN</td>\n      <td>NaN</td>\n      <td>NaN</td>\n      <td>NaN</td>\n      <td>NaN</td>\n      <td>NaN</td>\n      <td>NaN</td>\n      <td>NaN</td>\n    </tr>\n    <tr>\n      <th>2</th>\n      <td>cowrie.command.input</td>\n      <td>NaN</td>\n      <td>NaN</td>\n      <td>NaN</td>\n      <td>NaN</td>\n      <td>NaN</td>\n      <td>CMD: top</td>\n      <td>ik1-448-56163</td>\n      <td>2020-12-29 00:00:00.467146+00:00</td>\n      <td>51.91.8.222</td>\n      <td>...</td>\n      <td>NaN</td>\n      <td>NaN</td>\n      <td>NaN</td>\n      <td>NaN</td>\n      <td>NaN</td>\n      <td>NaN</td>\n      <td>NaN</td>\n      <td>NaN</td>\n      <td>NaN</td>\n      <td>NaN</td>\n    </tr>\n    <tr>\n      <th>3</th>\n      <td>cowrie.session.connect</td>\n      <td>NaN</td>\n      <td>NaN</td>\n      <td>NaN</td>\n      <td>NaN</td>\n      <td>NaN</td>\n      <td>New connection: 5.188.86.178:61490 (133.125.60...</td>\n      <td>ik1-448-56163</td>\n      <td>2020-12-29 00:00:00.532028+00:00</td>\n      <td>5.188.86.178</td>\n      <td>...</td>\n      <td>NaN</td>\n      <td>NaN</td>\n      <td>NaN</td>\n      <td>NaN</td>\n      <td>NaN</td>\n      <td>NaN</td>\n      <td>NaN</td>\n      <td>NaN</td>\n      <td>NaN</td>\n      <td>NaN</td>\n    </tr>\n    <tr>\n      <th>4</th>\n      <td>cowrie.client.version</td>\n      <td>NaN</td>\n      <td>NaN</td>\n      <td>NaN</td>\n      <td>NaN</td>\n      <td>NaN</td>\n      <td>Remote SSH version: b'SSH-2.0-Go'</td>\n      <td>ik1-448-56163</td>\n      <td>2020-12-29 00:00:00.532569+00:00</td>\n      <td>5.188.86.178</td>\n      <td>...</td>\n      <td>NaN</td>\n      <td>NaN</td>\n      <td>NaN</td>\n      <td>NaN</td>\n      <td>NaN</td>\n      <td>NaN</td>\n      <td>NaN</td>\n      <td>NaN</td>\n      <td>NaN</td>\n      <td>NaN</td>\n    </tr>\n    <tr>\n      <th>...</th>\n      <td>...</td>\n      <td>...</td>\n      <td>...</td>\n      <td>...</td>\n      <td>...</td>\n      <td>...</td>\n      <td>...</td>\n      <td>...</td>\n      <td>...</td>\n      <td>...</td>\n      <td>...</td>\n      <td>...</td>\n      <td>...</td>\n      <td>...</td>\n      <td>...</td>\n      <td>...</td>\n      <td>...</td>\n      <td>...</td>\n      <td>...</td>\n      <td>...</td>\n      <td>...</td>\n    </tr>\n    <tr>\n      <th>287849</th>\n      <td>cowrie.direct-tcpip.request</td>\n      <td>NaN</td>\n      <td>NaN</td>\n      <td>NaN</td>\n      <td>NaN</td>\n      <td>NaN</td>\n      <td>direct-tcp connection request to 212.159.9.200...</td>\n      <td>ik1-448-56163</td>\n      <td>2020-12-29 23:59:58.663555+00:00</td>\n      <td>5.188.86.206</td>\n      <td>...</td>\n      <td>NaN</td>\n      <td>NaN</td>\n      <td>NaN</td>\n      <td>NaN</td>\n      <td>NaN</td>\n      <td>NaN</td>\n      <td>NaN</td>\n      <td>NaN</td>\n      <td>NaN</td>\n      <td>NaN</td>\n    </tr>\n    <tr>\n      <th>287850</th>\n      <td>cowrie.login.failed</td>\n      <td>NaN</td>\n      <td>NaN</td>\n      <td>NaN</td>\n      <td>NaN</td>\n      <td>NaN</td>\n      <td>login attempt [albert/albert123] failed</td>\n      <td>ik1-448-56163</td>\n      <td>2020-12-29 23:59:58.719157+00:00</td>\n      <td>111.1.165.12</td>\n      <td>...</td>\n      <td>NaN</td>\n      <td>albert</td>\n      <td>albert123</td>\n      <td>NaN</td>\n      <td>NaN</td>\n      <td>NaN</td>\n      <td>NaN</td>\n      <td>NaN</td>\n      <td>NaN</td>\n      <td>NaN</td>\n    </tr>\n    <tr>\n      <th>287851</th>\n      <td>cowrie.direct-tcpip.request</td>\n      <td>NaN</td>\n      <td>NaN</td>\n      <td>NaN</td>\n      <td>NaN</td>\n      <td>NaN</td>\n      <td>direct-tcp connection request to imap.gmx.net:...</td>\n      <td>ik1-448-56163</td>\n      <td>2020-12-29 23:59:59.541958+00:00</td>\n      <td>5.182.39.64</td>\n      <td>...</td>\n      <td>NaN</td>\n      <td>NaN</td>\n      <td>NaN</td>\n      <td>NaN</td>\n      <td>NaN</td>\n      <td>NaN</td>\n      <td>NaN</td>\n      <td>NaN</td>\n      <td>NaN</td>\n      <td>NaN</td>\n    </tr>\n    <tr>\n      <th>287852</th>\n      <td>cowrie.direct-tcpip.data</td>\n      <td>NaN</td>\n      <td>NaN</td>\n      <td>NaN</td>\n      <td>NaN</td>\n      <td>NaN</td>\n      <td>discarded direct-tcp forward request 5 to imap...</td>\n      <td>ik1-448-56163</td>\n      <td>2020-12-29 23:59:59.796920+00:00</td>\n      <td>5.182.39.64</td>\n      <td>...</td>\n      <td>NaN</td>\n      <td>NaN</td>\n      <td>NaN</td>\n      <td>b\"\\x16\\x03\\x03\\x00\\xc7\\x01\\x00\\x00\\xc3\\x03\\x03...</td>\n      <td>5.0</td>\n      <td>NaN</td>\n      <td>NaN</td>\n      <td>NaN</td>\n      <td>NaN</td>\n      <td>NaN</td>\n    </tr>\n    <tr>\n      <th>287853</th>\n      <td>cowrie.session.closed</td>\n      <td>NaN</td>\n      <td>NaN</td>\n      <td>NaN</td>\n      <td>NaN</td>\n      <td>2.027883</td>\n      <td>Connection lost after 2 seconds</td>\n      <td>ik1-448-56163</td>\n      <td>2020-12-29 23:59:59.855093+00:00</td>\n      <td>111.1.165.12</td>\n      <td>...</td>\n      <td>NaN</td>\n      <td>NaN</td>\n      <td>NaN</td>\n      <td>NaN</td>\n      <td>NaN</td>\n      <td>NaN</td>\n      <td>NaN</td>\n      <td>NaN</td>\n      <td>NaN</td>\n      <td>NaN</td>\n    </tr>\n  </tbody>\n</table>\n<p>287854 rows × 35 columns</p>\n</div>"
     },
     "metadata": {},
     "execution_count": 1
    }
   ],
   "source": [
    "#2020-12-13 cowrieログ分析について\n",
    "import pandas as pd\n",
    "import datetime\n",
    "import gzip\n",
    "fname = 'cowrie.json.2020-12-29'\n",
    "access = pd.read_json(fname,lines=True)\n",
    "df=pd.DataFrame(access)\n",
    "df['timestamp']=pd.to_datetime(df['timestamp'])\n",
    "df"
   ]
  },
  {
   "cell_type": "code",
   "execution_count": 11,
   "metadata": {},
   "outputs": [
    {
     "output_type": "stream",
     "name": "stdout",
     "text": [
      "52        esadmin\n95           ftp1\n119            sl\n126           bso\n198        marcos\n           ...   \n287606      nproc\n287765       news\n287779        lin\n287789       test\n287850     albert\nName: username, Length: 6988, dtype: object\nnproc         1418\nadmin          721\ntest           156\nubuntu         131\nuser            94\n              ... \ndevelop          1\nzach             1\nafa              1\nqa               1\nfinanceiro       1\nName: username, Length: 1477, dtype: int64\nパスワード頻度\nnproc         0.202919\nadmin         0.103177\ntest          0.022324\nubuntu        0.018746\nuser          0.013452\n                ...   \ndevelop       0.000143\nzach          0.000143\nafa           0.000143\nqa            0.000143\nfinanceiro    0.000143\nName: username, Length: 1477, dtype: float64\n"
     ]
    }
   ],
   "source": [
    "#ログインしようとしたID（ユーザーネーム）\n",
    "df1=df.query('eventid == \"cowrie.login.failed\"')\n",
    "print(df1['username'])\n",
    "noid=df1['username'].value_counts()\n",
    "noid1=df1['username'].value_counts(normalize=True)\n",
    "print(noid)\n",
    "print(\"パスワード頻度\")\n",
    "print(noid1)"
   ]
  },
  {
   "cell_type": "code",
   "execution_count": 2,
   "metadata": {},
   "outputs": [
    {
     "output_type": "stream",
     "name": "stdout",
     "text": [
      "2                                                       top\n8                                                     uname\n14                                                 uname -a\n17                                       lscpu | grep Model\n21        cd ~ && rm -rf .ssh && mkdir .ssh && echo \"ssh...\n                                ...                        \n287681    cd ~ && rm -rf .ssh && mkdir .ssh && echo \"ssh...\n287687                                                uname\n287690                                             uname -a\n287693                                   lscpu | grep Model\n287696    cd ~ && rm -rf .ssh && mkdir .ssh && echo \"ssh...\nName: input, Length: 21641, dtype: object\n"
     ]
    }
   ],
   "source": [
    "#実行に成功したコマンド\n",
    "df1=df.query('eventid == \"cowrie.command.input\"')\n",
    "print(df1['input'])"
   ]
  },
  {
   "cell_type": "code",
   "execution_count": 3,
   "metadata": {},
   "outputs": [
    {
     "output_type": "stream",
     "name": "stdout",
     "text": [
      "132211                 ./upnpsetup\n158123    Enter new UNIX password:\n202608    Enter new UNIX password:\n206526    Enter new UNIX password:\n207169    Enter new UNIX password:\n208766    Enter new UNIX password:\n213060    Enter new UNIX password:\n228385    Enter new UNIX password:\nName: input, dtype: object\n"
     ]
    }
   ],
   "source": [
    "#実行に失敗したコマンド\n",
    "df1=df.query('eventid == \"cowrie.command.failed\"')\n",
    "print(df1['input'])"
   ]
  },
  {
   "cell_type": "code",
   "execution_count": 4,
   "metadata": {},
   "outputs": [
    {
     "output_type": "stream",
     "name": "stdout",
     "text": [
      "ログイン失敗回数：6988\nnproc            1418\n123456            362\n123               136\npassword          113\n1234              101\n                 ... \nwe123               1\nSakura*123456       1\njenkins@123         1\nsakura2008          1\n                    1\nName: password, Length: 2374, dtype: int64\nパスワード頻度\nnproc            0.202919\n123456           0.051803\n123              0.019462\npassword         0.016171\n1234             0.014453\n                   ...   \nwe123            0.000143\nSakura*123456    0.000143\njenkins@123      0.000143\nsakura2008       0.000143\n                 0.000143\nName: password, Length: 2374, dtype: float64\n"
     ]
    }
   ],
   "source": [
    "#ログインに失敗したログ\n",
    "df2=df.query('eventid == \"cowrie.login.failed\"')\n",
    "print(\"ログイン失敗回数：\"+str(len(df2)))\n",
    "nopassword=df2['password'].value_counts()\n",
    "nopassword1=df2['password'].value_counts(normalize=True)\n",
    "print(nopassword)\n",
    "print(\"パスワード頻度\")\n",
    "print(nopassword1)"
   ]
  },
  {
   "cell_type": "code",
   "execution_count": 5,
   "metadata": {},
   "outputs": [
    {
     "output_type": "stream",
     "name": "stdout",
     "text": [
      "ログイン成功回数：20830\nadmin         19212\n1234567890       39\n1234             32\nmalcolm          30\nethan            26\n              ...  \nabcd#1234         1\n123456@a          1\nadmin_123         1\nTest@12345        1\nasdfghjkl         1\nName: password, Length: 836, dtype: int64\nパスワード頻度\nadmin         0.922324\n1234567890    0.001872\n1234          0.001536\nmalcolm       0.001440\nethan         0.001248\n                ...   \nabcd#1234     0.000048\n123456@a      0.000048\nadmin_123     0.000048\nTest@12345    0.000048\nasdfghjkl     0.000048\nName: password, Length: 836, dtype: float64\n"
     ]
    }
   ],
   "source": [
    "#ログインに成功したログ\n",
    "df2=df.query('eventid == \"cowrie.login.success\"')\n",
    "print(\"ログイン成功回数：\"+str(len(df2)))\n",
    "password=df2['password'].value_counts()\n",
    "password1=df2['password'].value_counts(normalize=True)\n",
    "print(password)\n",
    "print(\"パスワード頻度\")\n",
    "print(password1)"
   ]
  },
  {
   "cell_type": "code",
   "execution_count": 6,
   "metadata": {},
   "outputs": [
    {
     "output_type": "execute_result",
     "data": {
      "text/plain": [
       "                             eventid ttylog  size  \\\n",
       "25      cowrie.session.file_download    NaN   NaN   \n",
       "496     cowrie.session.file_download    NaN   NaN   \n",
       "906     cowrie.session.file_download    NaN   NaN   \n",
       "1002    cowrie.session.file_download    NaN   NaN   \n",
       "1119    cowrie.session.file_download    NaN   NaN   \n",
       "...                              ...    ...   ...   \n",
       "286916  cowrie.session.file_download    NaN   NaN   \n",
       "287174  cowrie.session.file_download    NaN   NaN   \n",
       "287560  cowrie.session.file_download    NaN   NaN   \n",
       "287682  cowrie.session.file_download    NaN   NaN   \n",
       "287698  cowrie.session.file_download    NaN   NaN   \n",
       "\n",
       "                                                   shasum  duplicate  \\\n",
       "25      a8460f446be540410004b1a8db4083773fa46f7fe76fa8...        1.0   \n",
       "496     a8460f446be540410004b1a8db4083773fa46f7fe76fa8...        1.0   \n",
       "906     a8460f446be540410004b1a8db4083773fa46f7fe76fa8...        1.0   \n",
       "1002    a8460f446be540410004b1a8db4083773fa46f7fe76fa8...        1.0   \n",
       "1119    a8460f446be540410004b1a8db4083773fa46f7fe76fa8...        1.0   \n",
       "...                                                   ...        ...   \n",
       "286916  a8460f446be540410004b1a8db4083773fa46f7fe76fa8...        1.0   \n",
       "287174  a8460f446be540410004b1a8db4083773fa46f7fe76fa8...        1.0   \n",
       "287560  a8460f446be540410004b1a8db4083773fa46f7fe76fa8...        1.0   \n",
       "287682  a8460f446be540410004b1a8db4083773fa46f7fe76fa8...        1.0   \n",
       "287698  a8460f446be540410004b1a8db4083773fa46f7fe76fa8...        1.0   \n",
       "\n",
       "        duration                                            message  \\\n",
       "25           NaN  Saved redir contents with SHA-256 a8460f446be5...   \n",
       "496          NaN  Saved redir contents with SHA-256 a8460f446be5...   \n",
       "906          NaN  Saved redir contents with SHA-256 a8460f446be5...   \n",
       "1002         NaN  Saved redir contents with SHA-256 a8460f446be5...   \n",
       "1119         NaN  Saved redir contents with SHA-256 a8460f446be5...   \n",
       "...          ...                                                ...   \n",
       "286916       NaN  Saved redir contents with SHA-256 a8460f446be5...   \n",
       "287174       NaN  Saved redir contents with SHA-256 a8460f446be5...   \n",
       "287560       NaN  Saved redir contents with SHA-256 a8460f446be5...   \n",
       "287682       NaN  Saved redir contents with SHA-256 a8460f446be5...   \n",
       "287698       NaN  Saved redir contents with SHA-256 a8460f446be5...   \n",
       "\n",
       "               sensor                        timestamp           src_ip  ...  \\\n",
       "25      ik1-448-56163 2020-12-29 00:00:04.170455+00:00      51.91.8.222  ...   \n",
       "496     ik1-448-56163 2020-12-29 00:03:00.661418+00:00      51.91.8.222  ...   \n",
       "906     ik1-448-56163 2020-12-29 00:05:24.078095+00:00    112.196.52.58  ...   \n",
       "1002    ik1-448-56163 2020-12-29 00:05:43.351278+00:00   103.212.120.87  ...   \n",
       "1119    ik1-448-56163 2020-12-29 00:06:05.169419+00:00      51.91.8.222  ...   \n",
       "...               ...                              ...              ...  ...   \n",
       "286916  ik1-448-56163 2020-12-29 23:55:30.594713+00:00   164.132.24.255  ...   \n",
       "287174  ik1-448-56163 2020-12-29 23:56:47.550595+00:00   181.28.152.133  ...   \n",
       "287560  ik1-448-56163 2020-12-29 23:58:40.509255+00:00     51.178.86.97  ...   \n",
       "287682  ik1-448-56163 2020-12-29 23:58:54.748012+00:00  201.116.194.210  ...   \n",
       "287698  ik1-448-56163 2020-12-29 23:58:57.018213+00:00  201.116.194.210  ...   \n",
       "\n",
       "       langCS username password  data  id  \\\n",
       "25        NaN      NaN      NaN   NaN NaN   \n",
       "496       NaN      NaN      NaN   NaN NaN   \n",
       "906       NaN      NaN      NaN   NaN NaN   \n",
       "1002      NaN      NaN      NaN   NaN NaN   \n",
       "1119      NaN      NaN      NaN   NaN NaN   \n",
       "...       ...      ...      ...   ...  ..   \n",
       "286916    NaN      NaN      NaN   NaN NaN   \n",
       "287174    NaN      NaN      NaN   NaN NaN   \n",
       "287560    NaN      NaN      NaN   NaN NaN   \n",
       "287682    NaN      NaN      NaN   NaN NaN   \n",
       "287698    NaN      NaN      NaN   NaN NaN   \n",
       "\n",
       "                                                  outfile  \\\n",
       "25      var/lib/cowrie/downloads/a8460f446be540410004b...   \n",
       "496     var/lib/cowrie/downloads/a8460f446be540410004b...   \n",
       "906     var/lib/cowrie/downloads/a8460f446be540410004b...   \n",
       "1002    var/lib/cowrie/downloads/a8460f446be540410004b...   \n",
       "1119    var/lib/cowrie/downloads/a8460f446be540410004b...   \n",
       "...                                                   ...   \n",
       "286916  var/lib/cowrie/downloads/a8460f446be540410004b...   \n",
       "287174  var/lib/cowrie/downloads/a8460f446be540410004b...   \n",
       "287560  var/lib/cowrie/downloads/a8460f446be540410004b...   \n",
       "287682  var/lib/cowrie/downloads/a8460f446be540410004b...   \n",
       "287698  var/lib/cowrie/downloads/a8460f446be540410004b...   \n",
       "\n",
       "                          destfile filename width height  \n",
       "25      /root/.ssh/authorized_keys      NaN   NaN    NaN  \n",
       "496     /root/.ssh/authorized_keys      NaN   NaN    NaN  \n",
       "906     /root/.ssh/authorized_keys      NaN   NaN    NaN  \n",
       "1002    /root/.ssh/authorized_keys      NaN   NaN    NaN  \n",
       "1119    /root/.ssh/authorized_keys      NaN   NaN    NaN  \n",
       "...                            ...      ...   ...    ...  \n",
       "286916  /root/.ssh/authorized_keys      NaN   NaN    NaN  \n",
       "287174  /root/.ssh/authorized_keys      NaN   NaN    NaN  \n",
       "287560  /root/.ssh/authorized_keys      NaN   NaN    NaN  \n",
       "287682  /root/.ssh/authorized_keys      NaN   NaN    NaN  \n",
       "287698  /root/.ssh/authorized_keys      NaN   NaN    NaN  \n",
       "\n",
       "[1453 rows x 35 columns]"
      ],
      "text/html": "<div>\n<style scoped>\n    .dataframe tbody tr th:only-of-type {\n        vertical-align: middle;\n    }\n\n    .dataframe tbody tr th {\n        vertical-align: top;\n    }\n\n    .dataframe thead th {\n        text-align: right;\n    }\n</style>\n<table border=\"1\" class=\"dataframe\">\n  <thead>\n    <tr style=\"text-align: right;\">\n      <th></th>\n      <th>eventid</th>\n      <th>ttylog</th>\n      <th>size</th>\n      <th>shasum</th>\n      <th>duplicate</th>\n      <th>duration</th>\n      <th>message</th>\n      <th>sensor</th>\n      <th>timestamp</th>\n      <th>src_ip</th>\n      <th>...</th>\n      <th>langCS</th>\n      <th>username</th>\n      <th>password</th>\n      <th>data</th>\n      <th>id</th>\n      <th>outfile</th>\n      <th>destfile</th>\n      <th>filename</th>\n      <th>width</th>\n      <th>height</th>\n    </tr>\n  </thead>\n  <tbody>\n    <tr>\n      <th>25</th>\n      <td>cowrie.session.file_download</td>\n      <td>NaN</td>\n      <td>NaN</td>\n      <td>a8460f446be540410004b1a8db4083773fa46f7fe76fa8...</td>\n      <td>1.0</td>\n      <td>NaN</td>\n      <td>Saved redir contents with SHA-256 a8460f446be5...</td>\n      <td>ik1-448-56163</td>\n      <td>2020-12-29 00:00:04.170455+00:00</td>\n      <td>51.91.8.222</td>\n      <td>...</td>\n      <td>NaN</td>\n      <td>NaN</td>\n      <td>NaN</td>\n      <td>NaN</td>\n      <td>NaN</td>\n      <td>var/lib/cowrie/downloads/a8460f446be540410004b...</td>\n      <td>/root/.ssh/authorized_keys</td>\n      <td>NaN</td>\n      <td>NaN</td>\n      <td>NaN</td>\n    </tr>\n    <tr>\n      <th>496</th>\n      <td>cowrie.session.file_download</td>\n      <td>NaN</td>\n      <td>NaN</td>\n      <td>a8460f446be540410004b1a8db4083773fa46f7fe76fa8...</td>\n      <td>1.0</td>\n      <td>NaN</td>\n      <td>Saved redir contents with SHA-256 a8460f446be5...</td>\n      <td>ik1-448-56163</td>\n      <td>2020-12-29 00:03:00.661418+00:00</td>\n      <td>51.91.8.222</td>\n      <td>...</td>\n      <td>NaN</td>\n      <td>NaN</td>\n      <td>NaN</td>\n      <td>NaN</td>\n      <td>NaN</td>\n      <td>var/lib/cowrie/downloads/a8460f446be540410004b...</td>\n      <td>/root/.ssh/authorized_keys</td>\n      <td>NaN</td>\n      <td>NaN</td>\n      <td>NaN</td>\n    </tr>\n    <tr>\n      <th>906</th>\n      <td>cowrie.session.file_download</td>\n      <td>NaN</td>\n      <td>NaN</td>\n      <td>a8460f446be540410004b1a8db4083773fa46f7fe76fa8...</td>\n      <td>1.0</td>\n      <td>NaN</td>\n      <td>Saved redir contents with SHA-256 a8460f446be5...</td>\n      <td>ik1-448-56163</td>\n      <td>2020-12-29 00:05:24.078095+00:00</td>\n      <td>112.196.52.58</td>\n      <td>...</td>\n      <td>NaN</td>\n      <td>NaN</td>\n      <td>NaN</td>\n      <td>NaN</td>\n      <td>NaN</td>\n      <td>var/lib/cowrie/downloads/a8460f446be540410004b...</td>\n      <td>/root/.ssh/authorized_keys</td>\n      <td>NaN</td>\n      <td>NaN</td>\n      <td>NaN</td>\n    </tr>\n    <tr>\n      <th>1002</th>\n      <td>cowrie.session.file_download</td>\n      <td>NaN</td>\n      <td>NaN</td>\n      <td>a8460f446be540410004b1a8db4083773fa46f7fe76fa8...</td>\n      <td>1.0</td>\n      <td>NaN</td>\n      <td>Saved redir contents with SHA-256 a8460f446be5...</td>\n      <td>ik1-448-56163</td>\n      <td>2020-12-29 00:05:43.351278+00:00</td>\n      <td>103.212.120.87</td>\n      <td>...</td>\n      <td>NaN</td>\n      <td>NaN</td>\n      <td>NaN</td>\n      <td>NaN</td>\n      <td>NaN</td>\n      <td>var/lib/cowrie/downloads/a8460f446be540410004b...</td>\n      <td>/root/.ssh/authorized_keys</td>\n      <td>NaN</td>\n      <td>NaN</td>\n      <td>NaN</td>\n    </tr>\n    <tr>\n      <th>1119</th>\n      <td>cowrie.session.file_download</td>\n      <td>NaN</td>\n      <td>NaN</td>\n      <td>a8460f446be540410004b1a8db4083773fa46f7fe76fa8...</td>\n      <td>1.0</td>\n      <td>NaN</td>\n      <td>Saved redir contents with SHA-256 a8460f446be5...</td>\n      <td>ik1-448-56163</td>\n      <td>2020-12-29 00:06:05.169419+00:00</td>\n      <td>51.91.8.222</td>\n      <td>...</td>\n      <td>NaN</td>\n      <td>NaN</td>\n      <td>NaN</td>\n      <td>NaN</td>\n      <td>NaN</td>\n      <td>var/lib/cowrie/downloads/a8460f446be540410004b...</td>\n      <td>/root/.ssh/authorized_keys</td>\n      <td>NaN</td>\n      <td>NaN</td>\n      <td>NaN</td>\n    </tr>\n    <tr>\n      <th>...</th>\n      <td>...</td>\n      <td>...</td>\n      <td>...</td>\n      <td>...</td>\n      <td>...</td>\n      <td>...</td>\n      <td>...</td>\n      <td>...</td>\n      <td>...</td>\n      <td>...</td>\n      <td>...</td>\n      <td>...</td>\n      <td>...</td>\n      <td>...</td>\n      <td>...</td>\n      <td>...</td>\n      <td>...</td>\n      <td>...</td>\n      <td>...</td>\n      <td>...</td>\n      <td>...</td>\n    </tr>\n    <tr>\n      <th>286916</th>\n      <td>cowrie.session.file_download</td>\n      <td>NaN</td>\n      <td>NaN</td>\n      <td>a8460f446be540410004b1a8db4083773fa46f7fe76fa8...</td>\n      <td>1.0</td>\n      <td>NaN</td>\n      <td>Saved redir contents with SHA-256 a8460f446be5...</td>\n      <td>ik1-448-56163</td>\n      <td>2020-12-29 23:55:30.594713+00:00</td>\n      <td>164.132.24.255</td>\n      <td>...</td>\n      <td>NaN</td>\n      <td>NaN</td>\n      <td>NaN</td>\n      <td>NaN</td>\n      <td>NaN</td>\n      <td>var/lib/cowrie/downloads/a8460f446be540410004b...</td>\n      <td>/root/.ssh/authorized_keys</td>\n      <td>NaN</td>\n      <td>NaN</td>\n      <td>NaN</td>\n    </tr>\n    <tr>\n      <th>287174</th>\n      <td>cowrie.session.file_download</td>\n      <td>NaN</td>\n      <td>NaN</td>\n      <td>a8460f446be540410004b1a8db4083773fa46f7fe76fa8...</td>\n      <td>1.0</td>\n      <td>NaN</td>\n      <td>Saved redir contents with SHA-256 a8460f446be5...</td>\n      <td>ik1-448-56163</td>\n      <td>2020-12-29 23:56:47.550595+00:00</td>\n      <td>181.28.152.133</td>\n      <td>...</td>\n      <td>NaN</td>\n      <td>NaN</td>\n      <td>NaN</td>\n      <td>NaN</td>\n      <td>NaN</td>\n      <td>var/lib/cowrie/downloads/a8460f446be540410004b...</td>\n      <td>/root/.ssh/authorized_keys</td>\n      <td>NaN</td>\n      <td>NaN</td>\n      <td>NaN</td>\n    </tr>\n    <tr>\n      <th>287560</th>\n      <td>cowrie.session.file_download</td>\n      <td>NaN</td>\n      <td>NaN</td>\n      <td>a8460f446be540410004b1a8db4083773fa46f7fe76fa8...</td>\n      <td>1.0</td>\n      <td>NaN</td>\n      <td>Saved redir contents with SHA-256 a8460f446be5...</td>\n      <td>ik1-448-56163</td>\n      <td>2020-12-29 23:58:40.509255+00:00</td>\n      <td>51.178.86.97</td>\n      <td>...</td>\n      <td>NaN</td>\n      <td>NaN</td>\n      <td>NaN</td>\n      <td>NaN</td>\n      <td>NaN</td>\n      <td>var/lib/cowrie/downloads/a8460f446be540410004b...</td>\n      <td>/root/.ssh/authorized_keys</td>\n      <td>NaN</td>\n      <td>NaN</td>\n      <td>NaN</td>\n    </tr>\n    <tr>\n      <th>287682</th>\n      <td>cowrie.session.file_download</td>\n      <td>NaN</td>\n      <td>NaN</td>\n      <td>a8460f446be540410004b1a8db4083773fa46f7fe76fa8...</td>\n      <td>1.0</td>\n      <td>NaN</td>\n      <td>Saved redir contents with SHA-256 a8460f446be5...</td>\n      <td>ik1-448-56163</td>\n      <td>2020-12-29 23:58:54.748012+00:00</td>\n      <td>201.116.194.210</td>\n      <td>...</td>\n      <td>NaN</td>\n      <td>NaN</td>\n      <td>NaN</td>\n      <td>NaN</td>\n      <td>NaN</td>\n      <td>var/lib/cowrie/downloads/a8460f446be540410004b...</td>\n      <td>/root/.ssh/authorized_keys</td>\n      <td>NaN</td>\n      <td>NaN</td>\n      <td>NaN</td>\n    </tr>\n    <tr>\n      <th>287698</th>\n      <td>cowrie.session.file_download</td>\n      <td>NaN</td>\n      <td>NaN</td>\n      <td>a8460f446be540410004b1a8db4083773fa46f7fe76fa8...</td>\n      <td>1.0</td>\n      <td>NaN</td>\n      <td>Saved redir contents with SHA-256 a8460f446be5...</td>\n      <td>ik1-448-56163</td>\n      <td>2020-12-29 23:58:57.018213+00:00</td>\n      <td>201.116.194.210</td>\n      <td>...</td>\n      <td>NaN</td>\n      <td>NaN</td>\n      <td>NaN</td>\n      <td>NaN</td>\n      <td>NaN</td>\n      <td>var/lib/cowrie/downloads/a8460f446be540410004b...</td>\n      <td>/root/.ssh/authorized_keys</td>\n      <td>NaN</td>\n      <td>NaN</td>\n      <td>NaN</td>\n    </tr>\n  </tbody>\n</table>\n<p>1453 rows × 35 columns</p>\n</div>"
     },
     "metadata": {},
     "execution_count": 6
    }
   ],
   "source": [
    "#ダウンロードに成功\n",
    "df.query('eventid == \"cowrie.session.file_download\"')"
   ]
  },
  {
   "cell_type": "code",
   "execution_count": 8,
   "metadata": {},
   "outputs": [
    {
     "output_type": "execute_result",
     "data": {
      "text/plain": [
       "Empty DataFrame\n",
       "Columns: [eventid, ttylog, size, shasum, duplicate, duration, message, sensor, timestamp, src_ip, session, arch, input, src_port, dst_ip, dst_port, protocol, version, hassh, hasshAlgorithms, kexAlgs, keyAlgs, encCS, macCS, compCS, langCS, username, password, data, id, outfile, destfile, filename, width, height]\n",
       "Index: []\n",
       "\n",
       "[0 rows x 35 columns]"
      ],
      "text/html": "<div>\n<style scoped>\n    .dataframe tbody tr th:only-of-type {\n        vertical-align: middle;\n    }\n\n    .dataframe tbody tr th {\n        vertical-align: top;\n    }\n\n    .dataframe thead th {\n        text-align: right;\n    }\n</style>\n<table border=\"1\" class=\"dataframe\">\n  <thead>\n    <tr style=\"text-align: right;\">\n      <th></th>\n      <th>eventid</th>\n      <th>ttylog</th>\n      <th>size</th>\n      <th>shasum</th>\n      <th>duplicate</th>\n      <th>duration</th>\n      <th>message</th>\n      <th>sensor</th>\n      <th>timestamp</th>\n      <th>src_ip</th>\n      <th>...</th>\n      <th>langCS</th>\n      <th>username</th>\n      <th>password</th>\n      <th>data</th>\n      <th>id</th>\n      <th>outfile</th>\n      <th>destfile</th>\n      <th>filename</th>\n      <th>width</th>\n      <th>height</th>\n    </tr>\n  </thead>\n  <tbody>\n  </tbody>\n</table>\n<p>0 rows × 35 columns</p>\n</div>"
     },
     "metadata": {},
     "execution_count": 8
    }
   ],
   "source": [
    "#ダウンロードに成功\n",
    "df.query('eventid == \"cowrie.session.file_download.failed\"')"
   ]
  },
  {
   "cell_type": "code",
   "execution_count": null,
   "metadata": {},
   "outputs": [],
   "source": []
  }
 ]
}